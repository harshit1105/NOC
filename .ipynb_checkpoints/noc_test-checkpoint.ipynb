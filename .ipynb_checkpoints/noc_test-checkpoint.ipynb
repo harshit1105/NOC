{
 "cells": [
  {
   "cell_type": "code",
   "execution_count": null,
   "id": "8c7bf9af",
   "metadata": {},
   "outputs": [],
   "source": [
    "#Printing Hello World\n",
    "print(\"Hello World\")"
   ]
  },
  {
   "cell_type": "code",
   "execution_count": null,
   "id": "fa2abd8b",
   "metadata": {},
   "outputs": [],
   "source": [
    "#Doing addition of 2 variable\n",
    "a = 1\n",
    "b = 2\n",
    "a+b"
   ]
  },
  {
   "cell_type": "code",
   "execution_count": null,
   "id": "c38e320b",
   "metadata": {},
   "outputs": [],
   "source": [
    "#Using if condition\n",
    "if a > b:\n",
    "    print(\"a is greater than b\")\n",
    "else:\n",
    "    print(\"b is greater than a\")"
   ]
  }
 ],
 "metadata": {
  "kernelspec": {
   "display_name": "Python 3",
   "language": "python",
   "name": "python3"
  },
  "language_info": {
   "codemirror_mode": {
    "name": "ipython",
    "version": 3
   },
   "file_extension": ".py",
   "mimetype": "text/x-python",
   "name": "python",
   "nbconvert_exporter": "python",
   "pygments_lexer": "ipython3",
   "version": "3.8.10"
  }
 },
 "nbformat": 4,
 "nbformat_minor": 5
}
